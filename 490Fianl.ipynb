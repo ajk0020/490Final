{
  "cells": [
    {
      "cell_type": "code",
      "execution_count": 32,
      "metadata": {
        "id": "keEkaxCpe5yl"
      },
      "outputs": [],
      "source": [
        "import pandas as pd\n",
        "from sklearn.model_selection import train_test_split\n",
        "from sklearn.preprocessing import StandardScaler\n",
        "from sklearn.preprocessing import LabelEncoder\n",
        "import numpy as np\n",
        "from sklearn.decomposition import PCA\n",
        "from tensorflow.keras.models import Sequential\n",
        "from tensorflow.keras.layers import Dense\n",
        "from tensorflow.keras.initializers import HeNormal\n",
        "from tensorflow.keras.optimizers import Adam\n",
        "from tensorflow.keras.callbacks import TensorBoard\n",
        "\n",
        "# Create a TensorBoard callback\n",
        "tensorboard = TensorBoard(log_dir='./logs', histogram_freq=1)"
      ]
    },
    {
      "cell_type": "markdown",
      "source": [
        "Read and transform the data"
      ],
      "metadata": {
        "id": "JB8YaAuUCfU9"
      }
    },
    {
      "cell_type": "code",
      "source": [
        "# load dataset\n",
        "CCData = pd.read_csv(\"Credit_card.csv\")\n",
        "CCData2 = pd.read_csv(\"Credit_card_label.csv\")\n",
        "X = CCData[[\"Ind_ID\",\"GENDER\",\"Car_Owner\",\"Propert_Owner\",\"CHILDREN\",\"Annual_income\",\"Type_Income\",\"EDUCATION\",\n",
        "        \"Marital_status\",\"Housing_type\",\"Birthday_count\",\"Employed_days\",\"Mobile_phone\",\"Work_Phone\",\"Phone\",\n",
        "        \"EMAIL_ID\",\"Type_Occupation\",\"Family_Members\"]]\n",
        "Y = CCData2[[\"label\"]]\n",
        "\n",
        "#Find and replace all 'NaN data\n",
        "#Columns with string data get \"N/A\"\n",
        "#Columns with numbered data get 0\n",
        "listNan = X.loc[:, X.isna().any()]\n",
        "print('Columns with NaN data:')\n",
        "print(list(listNan))\n",
        "X['GENDER'] = X['GENDER'].fillna('N/A')\n",
        "X['Type_Occupation'] = X['Type_Occupation'].fillna('N/A')\n",
        "X['Annual_income'] = X['Annual_income'].fillna(0)\n",
        "X['Birthday_count'] = X['Birthday_count'].fillna(0)\n",
        "\n",
        "#Encode the catagorical data\n",
        "le = LabelEncoder()\n",
        "X['GENDER'] = le.fit_transform(X.GENDER.values)\n",
        "X['Car_Owner'] = le.fit_transform(X.Car_Owner.values)\n",
        "X['Propert_Owner'] = le.fit_transform(X.Propert_Owner.values)\n",
        "X['Type_Income'] = le.fit_transform(X.Type_Income.values)\n",
        "X['EDUCATION'] = le.fit_transform(X.EDUCATION.values)\n",
        "X['Marital_status'] = le.fit_transform(X.Marital_status.values)\n",
        "X['Housing_type'] = le.fit_transform(X.Housing_type.values)\n",
        "X['Type_Occupation'] = le.fit_transform(X.Type_Occupation.values)\n",
        "\n",
        "# Standardizing the features and perform pca\n",
        "X = StandardScaler().fit_transform(X)\n",
        "pca = PCA(n_components=2)\n",
        "principalComponents = pca.fit_transform(X)\n",
        "\n",
        "# Split the dataset into training and test sets\n",
        "X, X_test, Y, y_test = train_test_split(X, Y, test_size=0.2, random_state=42)\n",
        "\n",
        "# Scale the data\n",
        "scaler = StandardScaler().fit(X)\n",
        "X = scaler.transform(X)\n",
        "X_test = scaler.transform(X_test)\n",
        "\n",
        "#Turn Y into a matrix\n",
        "Y = np.ravel(Y)\n",
        "encoder = LabelEncoder()\n",
        "encoder.fit(Y)\n",
        "Y = encoder.transform(Y)"
      ],
      "metadata": {
        "id": "H-H3F6wZCeSb",
        "outputId": "501ea227-ddf0-48c1-d0b6-ba2d529c3227",
        "colab": {
          "base_uri": "https://localhost:8080/"
        }
      },
      "execution_count": 34,
      "outputs": [
        {
          "output_type": "stream",
          "name": "stdout",
          "text": [
            "Columns with NaN data:\n",
            "['GENDER', 'Annual_income', 'Birthday_count', 'Type_Occupation']\n"
          ]
        }
      ]
    },
    {
      "cell_type": "markdown",
      "source": [
        "Create and train the model"
      ],
      "metadata": {
        "id": "QaCCT0LCDyEG"
      }
    },
    {
      "cell_type": "code",
      "source": [
        "#Create the model\n",
        "model = Sequential()\n",
        "model.add(Dense(4, input_dim=X.shape[1], activation='sigmoid', kernel_initializer=HeNormal()))\n",
        "model.add(Dense(3, activation='sigmoid'))\n",
        "model.add(Dense(2, activation='sigmoid'))  # Output layer\n",
        "model.compile(loss='sparse_categorical_crossentropy',\n",
        "              optimizer=Adam(learning_rate=0.01),\n",
        "              metrics=['accuracy'])\n",
        "\n",
        "#Training the model\n",
        "history = model.fit(X, Y, epochs=5, batch_size=32, validation_data=(X_test, y_test), callbacks=[tensorboard])"
      ],
      "metadata": {
        "id": "VV_8E99FD3Sh",
        "outputId": "e036e436-9b2d-4ced-ab04-4c7df038898a",
        "colab": {
          "base_uri": "https://localhost:8080/"
        }
      },
      "execution_count": 35,
      "outputs": [
        {
          "output_type": "stream",
          "name": "stdout",
          "text": [
            "Epoch 1/5\n",
            "39/39 [==============================] - 2s 18ms/step - loss: 0.3700 - accuracy: 0.8829 - val_loss: 0.3172 - val_accuracy: 0.9032\n",
            "Epoch 2/5\n",
            "39/39 [==============================] - 0s 13ms/step - loss: 0.3604 - accuracy: 0.8829 - val_loss: 0.3167 - val_accuracy: 0.9032\n",
            "Epoch 3/5\n",
            "39/39 [==============================] - 0s 7ms/step - loss: 0.3597 - accuracy: 0.8829 - val_loss: 0.3181 - val_accuracy: 0.9032\n",
            "Epoch 4/5\n",
            "39/39 [==============================] - 0s 7ms/step - loss: 0.3572 - accuracy: 0.8829 - val_loss: 0.3199 - val_accuracy: 0.9032\n",
            "Epoch 5/5\n",
            "39/39 [==============================] - 0s 7ms/step - loss: 0.3549 - accuracy: 0.8829 - val_loss: 0.3185 - val_accuracy: 0.9032\n"
          ]
        }
      ]
    },
    {
      "cell_type": "code",
      "source": [],
      "metadata": {
        "id": "ECm4lGvxD-xL"
      },
      "execution_count": null,
      "outputs": []
    }
  ],
  "metadata": {
    "colab": {
      "provenance": []
    },
    "kernelspec": {
      "display_name": "Python 3 (ipykernel)",
      "language": "python",
      "name": "python3"
    },
    "language_info": {
      "codemirror_mode": {
        "name": "ipython",
        "version": 3
      },
      "file_extension": ".py",
      "mimetype": "text/x-python",
      "name": "python",
      "nbconvert_exporter": "python",
      "pygments_lexer": "ipython3",
      "version": "3.11.5"
    }
  },
  "nbformat": 4,
  "nbformat_minor": 0
}