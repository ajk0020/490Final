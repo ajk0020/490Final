{
 "cells": [
  {
   "cell_type": "code",
   "execution_count": 4,
   "metadata": {
    "id": "keEkaxCpe5yl"
   },
   "outputs": [
    {
     "name": "stdout",
     "output_type": "stream",
     "text": [
      "       Ind_ID  label\n",
      "0     5008827      1\n",
      "1     5009744      1\n",
      "2     5009746      1\n",
      "3     5009749      1\n",
      "4     5009752      1\n",
      "...       ...    ...\n",
      "1543  5028645      0\n",
      "1544  5023655      0\n",
      "1545  5115992      0\n",
      "1546  5118219      0\n",
      "1547  5053790      0\n",
      "\n",
      "[1548 rows x 2 columns]\n"
     ]
    }
   ],
   "source": [
    "import pandas as pd\n",
    "\n",
    "creditData = pd.read_csv(\"credit_card.csv\")\n",
    "approvalData = pd.read_csv(\"credit_card_label.csv\")\n",
    "print(approvalData)"
   ]
  }
 ],
 "metadata": {
  "colab": {
   "provenance": []
  },
  "kernelspec": {
   "display_name": "Python 3 (ipykernel)",
   "language": "python",
   "name": "python3"
  },
  "language_info": {
   "codemirror_mode": {
    "name": "ipython",
    "version": 3
   },
   "file_extension": ".py",
   "mimetype": "text/x-python",
   "name": "python",
   "nbconvert_exporter": "python",
   "pygments_lexer": "ipython3",
   "version": "3.11.5"
  }
 },
 "nbformat": 4,
 "nbformat_minor": 1
}
