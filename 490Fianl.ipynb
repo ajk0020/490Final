{
 "cells": [
  {
   "cell_type": "code",
   "execution_count": 5,
   "metadata": {
    "id": "keEkaxCpe5yl"
   },
   "outputs": [],
   "source": [
    "import pandas as pd\n",
    "\n",
    "# load dataset\n",
    "CCData = pd.read_csv(\"Credit_card_numbered.csv\")\n",
    "CCData2 = pd.read_csv(\"Credit_card_label.csv\")\n",
    "X = CCData[[\"Ind_ID\",\"GENDER\",\"Car_Owner\",\"Propert_Owner\",\"CHILDREN\",\"Annual_income\",\"Type_Income\",\"EDUCATION\",\n",
    "        \"Marital_status\",\"Housing_type\",\"Birthday_count\",\"Employed_days\",\"Mobile_phone\",\"Work_Phone\",\"Phone\",\n",
    "        \"EMAIL_ID\",\"Type_Occupation\",\"Family_Members\"]]\n",
    "Y = CCData2[[\"label\"]]\n"
   ]
  }
 ],
 "metadata": {
  "colab": {
   "provenance": []
  },
  "kernelspec": {
   "display_name": "Python 3 (ipykernel)",
   "language": "python",
   "name": "python3"
  },
  "language_info": {
   "codemirror_mode": {
    "name": "ipython",
    "version": 3
   },
   "file_extension": ".py",
   "mimetype": "text/x-python",
   "name": "python",
   "nbconvert_exporter": "python",
   "pygments_lexer": "ipython3",
   "version": "3.11.5"
  }
 },
 "nbformat": 4,
 "nbformat_minor": 1
}
